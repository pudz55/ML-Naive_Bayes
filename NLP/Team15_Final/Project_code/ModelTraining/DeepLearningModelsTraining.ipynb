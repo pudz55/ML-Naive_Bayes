{
 "cells": [
  {
   "cell_type": "code",
   "execution_count": 1,
   "id": "88e948c8",
   "metadata": {},
   "outputs": [],
   "source": [
    "# Import libs.\n",
    "from keras.datasets import imdb\n",
    "import pandas as pd\n",
    "import numpy as np\n",
    "from keras.layers import LSTM, Activation, Dropout, Dense, Input, Conv1D, MaxPooling1D, GlobalMaxPooling1D\n",
    "from keras.layers.embeddings import Embedding\n",
    "from keras.models import Model\n",
    "import string\n",
    "import re\n",
    "from keras.preprocessing.text import Tokenizer\n",
    "from sklearn.preprocessing import LabelBinarizer\n",
    "from keras.preprocessing.sequence import pad_sequences\n",
    "import keras\n",
    "from sklearn.model_selection import train_test_split"
   ]
  },
  {
   "cell_type": "code",
   "execution_count": 2,
   "id": "f74452d4",
   "metadata": {},
   "outputs": [],
   "source": [
    "#Loading the dataset\n",
    "data = pd.read_csv('Pre_Processed_Dataset.csv')"
   ]
  },
  {
   "cell_type": "code",
   "execution_count": 3,
   "id": "403b68e5",
   "metadata": {},
   "outputs": [
    {
     "data": {
      "text/plain": [
       "Index(['Review', 'Length', 'Rating', 'Polarity'], dtype='object')"
      ]
     },
     "execution_count": 3,
     "metadata": {},
     "output_type": "execute_result"
    }
   ],
   "source": [
    "data.columns"
   ]
  },
  {
   "cell_type": "code",
   "execution_count": 4,
   "id": "42437db1",
   "metadata": {},
   "outputs": [],
   "source": [
    "Data_Size = 82000\n",
    "Data_Segment_1 = data[data['Polarity'] == 0].iloc[:Data_Size,:]\n",
    "Data_Segment_2 = data[data['Polarity'] == 1].iloc[:Data_Size,:]\n",
    "\n",
    "# makign new dataframe\n",
    "New_Instance_dataframe = frames = pd.concat([Data_Segment_1, Data_Segment_2])\n",
    "New_Instance_dataframe.reset_index(inplace = True, drop = True)\n",
    "\n",
    "# setting features \n",
    "Features_Collection = New_Instance_dataframe['Review']\n",
    "\n",
    "# setting labels \n",
    "Label_Collection = New_Instance_dataframe['Polarity']"
   ]
  },
  {
   "cell_type": "code",
   "execution_count": 5,
   "id": "fd278137",
   "metadata": {},
   "outputs": [],
   "source": [
    "reviews = Features_Collection.values\n",
    "labels = Label_Collection.values"
   ]
  },
  {
   "cell_type": "code",
   "execution_count": 6,
   "id": "3eb9c477",
   "metadata": {},
   "outputs": [],
   "source": [
    "#train test split\n",
    "X_train, X_test,Y_train, Y_test = train_test_split(reviews, labels, test_size=0.2, random_state = 45)"
   ]
  },
  {
   "cell_type": "code",
   "execution_count": 7,
   "id": "f8388c17",
   "metadata": {},
   "outputs": [],
   "source": [
    "#tokenisation\n",
    "tokenizer = Tokenizer(num_words=5000)\n",
    "tokenizer.fit_on_texts(X_train)\n",
    "\n",
    "words_to_index = tokenizer.word_index"
   ]
  },
  {
   "cell_type": "code",
   "execution_count": 8,
   "id": "17202709",
   "metadata": {},
   "outputs": [],
   "source": [
    "maxLen = 150"
   ]
  },
  {
   "cell_type": "code",
   "execution_count": 9,
   "id": "11b2131c",
   "metadata": {},
   "outputs": [],
   "source": [
    "def read_glove_vector(glove_vec):\n",
    "  with open(glove_vec, 'r', encoding='UTF-8') as f:\n",
    "    words = set()\n",
    "    word_to_vec_map = {}\n",
    "    for line in f:\n",
    "      w_line = line.split()\n",
    "      curr_word = w_line[0]\n",
    "      word_to_vec_map[curr_word] = np.array(w_line[1:], dtype=np.float64)\n",
    "\n",
    "\n",
    "\n",
    "  return word_to_vec_map"
   ]
  },
  {
   "cell_type": "code",
   "execution_count": 10,
   "id": "d6f9c21c",
   "metadata": {},
   "outputs": [],
   "source": [
    "word_to_vec_map = read_glove_vector('glove.6B.50d.txt')"
   ]
  },
  {
   "cell_type": "code",
   "execution_count": 11,
   "id": "b1e86e93",
   "metadata": {},
   "outputs": [],
   "source": [
    "vocab_len = len(words_to_index)\n",
    "embed_vector_len = word_to_vec_map['moon'].shape[0]\n",
    "\n",
    "emb_matrix = np.zeros((vocab_len, embed_vector_len))\n",
    "\n",
    "for word, index in words_to_index.items():\n",
    "  embedding_vector = word_to_vec_map.get(word)\n",
    "  if embedding_vector is not None:\n",
    "    emb_matrix[index, :] = embedding_vector\n",
    "\n",
    "embedding_layer = Embedding(input_dim=vocab_len, output_dim=embed_vector_len, input_length=maxLen, weights = [emb_matrix], trainable=False)"
   ]
  },
  {
   "cell_type": "code",
   "execution_count": 12,
   "id": "de9937b5",
   "metadata": {},
   "outputs": [
    {
     "name": "stdout",
     "output_type": "stream",
     "text": [
      "vocab length :  41455\n",
      "Embedding vector length :  50\n"
     ]
    }
   ],
   "source": [
    "print(\"vocab length : \",vocab_len)\n",
    "print(\"Embedding vector length : \",embed_vector_len)"
   ]
  },
  {
   "cell_type": "code",
   "execution_count": 13,
   "id": "26df0d47",
   "metadata": {},
   "outputs": [],
   "source": [
    "def LSTM_model(input_shape):\n",
    "\n",
    "  X_indices = Input(input_shape)\n",
    "  embeddings = embedding_layer(X_indices)\n",
    "  X = LSTM(128, return_sequences=True)(embeddings)\n",
    "  X = Dropout(0.6)(X)\n",
    "  X = LSTM(128, return_sequences=True)(X)\n",
    "  X = Dropout(0.6)(X)\n",
    "  X = LSTM(128)(X)\n",
    "  X = Dense(1, activation='softmax')(X)\n",
    "  model = Model(inputs=X_indices, outputs=X)\n",
    "  return model"
   ]
  },
  {
   "cell_type": "code",
   "execution_count": 28,
   "id": "011c2d56",
   "metadata": {},
   "outputs": [],
   "source": [
    "def conv1d_nn(input_shape):\n",
    "  X_indices = Input(input_shape)\n",
    "  embeddings = embedding_layer(X_indices)\n",
    "  X = LSTM(128, return_sequences=True)(embeddings)\n",
    "  X = Dropout(0.6)(X)\n",
    "  X = LSTM(128, return_sequences=True)(X)\n",
    "  X = Dropout(0.6)(X)\n",
    "  X = LSTM(128)(X)\n",
    "  X = Dense(1, activation='sigmoid')(X)\n",
    "  model = Model(inputs=X_indices, outputs=X)\n",
    "  return model"
   ]
  },
  {
   "cell_type": "code",
   "execution_count": 20,
   "id": "506db84c",
   "metadata": {},
   "outputs": [
    {
     "name": "stdout",
     "output_type": "stream",
     "text": [
      "Model: \"model_1\"\n",
      "_________________________________________________________________\n",
      "Layer (type)                 Output Shape              Param #   \n",
      "=================================================================\n",
      "input_2 (InputLayer)         [(None, 150)]             0         \n",
      "_________________________________________________________________\n",
      "embedding (Embedding)        multiple                  2072750   \n",
      "_________________________________________________________________\n",
      "lstm_3 (LSTM)                (None, 150, 128)          91648     \n",
      "_________________________________________________________________\n",
      "dropout_2 (Dropout)          (None, 150, 128)          0         \n",
      "_________________________________________________________________\n",
      "lstm_4 (LSTM)                (None, 150, 128)          131584    \n",
      "_________________________________________________________________\n",
      "dropout_3 (Dropout)          (None, 150, 128)          0         \n",
      "_________________________________________________________________\n",
      "lstm_5 (LSTM)                (None, 128)               131584    \n",
      "_________________________________________________________________\n",
      "dense_1 (Dense)              (None, 1)                 129       \n",
      "=================================================================\n",
      "Total params: 2,427,695\n",
      "Trainable params: 354,945\n",
      "Non-trainable params: 2,072,750\n",
      "_________________________________________________________________\n"
     ]
    }
   ],
   "source": [
    "model = LSTM_model((maxLen,))\n",
    "model.summary()"
   ]
  },
  {
   "cell_type": "code",
   "execution_count": 16,
   "id": "a4d8e6b4",
   "metadata": {},
   "outputs": [],
   "source": [
    "X_train_indices = tokenizer.texts_to_sequences(X_train)"
   ]
  },
  {
   "cell_type": "code",
   "execution_count": 29,
   "id": "53b49652",
   "metadata": {},
   "outputs": [
    {
     "name": "stdout",
     "output_type": "stream",
     "text": [
      "Model: \"model_2\"\n",
      "_________________________________________________________________\n",
      "Layer (type)                 Output Shape              Param #   \n",
      "=================================================================\n",
      "input_3 (InputLayer)         [(None, 150)]             0         \n",
      "_________________________________________________________________\n",
      "embedding (Embedding)        multiple                  2072750   \n",
      "_________________________________________________________________\n",
      "lstm_6 (LSTM)                (None, 150, 128)          91648     \n",
      "_________________________________________________________________\n",
      "dropout_4 (Dropout)          (None, 150, 128)          0         \n",
      "_________________________________________________________________\n",
      "lstm_7 (LSTM)                (None, 150, 128)          131584    \n",
      "_________________________________________________________________\n",
      "dropout_5 (Dropout)          (None, 150, 128)          0         \n",
      "_________________________________________________________________\n",
      "lstm_8 (LSTM)                (None, 128)               131584    \n",
      "_________________________________________________________________\n",
      "dense_2 (Dense)              (None, 1)                 129       \n",
      "=================================================================\n",
      "Total params: 2,427,695\n",
      "Trainable params: 354,945\n",
      "Non-trainable params: 2,072,750\n",
      "_________________________________________________________________\n"
     ]
    }
   ],
   "source": [
    "model_1d = conv1d_nn((maxLen,))\n",
    "model_1d.summary()"
   ]
  },
  {
   "cell_type": "code",
   "execution_count": 17,
   "id": "42d147a2",
   "metadata": {},
   "outputs": [
    {
     "data": {
      "text/plain": [
       "(131200, 150)"
      ]
     },
     "execution_count": 17,
     "metadata": {},
     "output_type": "execute_result"
    }
   ],
   "source": [
    "X_train_indices = pad_sequences(X_train_indices, maxlen=maxLen, padding='post')\n",
    "X_train_indices.shape"
   ]
  },
  {
   "cell_type": "code",
   "execution_count": 31,
   "id": "fe2ea416",
   "metadata": {},
   "outputs": [],
   "source": [
    "from tensorflow import keras\n",
    "adam = keras.optimizers.Adam(learning_rate = 0.0001)\n",
    "model_1d.compile(optimizer=adam, loss='binary_crossentropy', metrics=['accuracy'])"
   ]
  },
  {
   "cell_type": "code",
   "execution_count": 32,
   "id": "15265226",
   "metadata": {},
   "outputs": [
    {
     "data": {
      "text/plain": [
       "(32800,)"
      ]
     },
     "execution_count": 32,
     "metadata": {},
     "output_type": "execute_result"
    }
   ],
   "source": [
    "X_test.shape"
   ]
  },
  {
   "cell_type": "code",
   "execution_count": 34,
   "id": "55d2c161",
   "metadata": {
    "scrolled": false
   },
   "outputs": [
    {
     "name": "stdout",
     "output_type": "stream",
     "text": [
      "Epoch 1/25\n",
      "1845/1845 [==============================] - 38s 20ms/step - loss: 0.5757 - accuracy: 0.6899 - val_loss: 0.4970 - val_accuracy: 0.7601\n",
      "Epoch 2/25\n",
      "1845/1845 [==============================] - 39s 21ms/step - loss: 0.4830 - accuracy: 0.7699 - val_loss: 0.4873 - val_accuracy: 0.7697\n",
      "Epoch 3/25\n",
      "1845/1845 [==============================] - 39s 21ms/step - loss: 0.4576 - accuracy: 0.7859 - val_loss: 0.4559 - val_accuracy: 0.7930\n",
      "Epoch 4/25\n",
      "1845/1845 [==============================] - 39s 21ms/step - loss: 0.4406 - accuracy: 0.7971 - val_loss: 0.4390 - val_accuracy: 0.8030\n",
      "Epoch 5/25\n",
      "1845/1845 [==============================] - 38s 21ms/step - loss: 0.4304 - accuracy: 0.8027 - val_loss: 0.4604 - val_accuracy: 0.7835\n",
      "Epoch 6/25\n",
      "1845/1845 [==============================] - 39s 21ms/step - loss: 0.4225 - accuracy: 0.8080 - val_loss: 0.4361 - val_accuracy: 0.7941\n",
      "Epoch 7/25\n",
      "1845/1845 [==============================] - 38s 21ms/step - loss: 0.4163 - accuracy: 0.8099 - val_loss: 0.4220 - val_accuracy: 0.8034\n",
      "Epoch 8/25\n",
      "1845/1845 [==============================] - 39s 21ms/step - loss: 0.4090 - accuracy: 0.8150 - val_loss: 0.4178 - val_accuracy: 0.8131\n",
      "Epoch 9/25\n",
      "1845/1845 [==============================] - 39s 21ms/step - loss: 0.4048 - accuracy: 0.8171 - val_loss: 0.4053 - val_accuracy: 0.8141\n",
      "Epoch 10/25\n",
      "1845/1845 [==============================] - 39s 21ms/step - loss: 0.3992 - accuracy: 0.8198 - val_loss: 0.4035 - val_accuracy: 0.8178\n",
      "Epoch 11/25\n",
      "1845/1845 [==============================] - 38s 21ms/step - loss: 0.3952 - accuracy: 0.8241 - val_loss: 0.4110 - val_accuracy: 0.8121\n",
      "Epoch 12/25\n",
      "1845/1845 [==============================] - 38s 21ms/step - loss: 0.3904 - accuracy: 0.8249 - val_loss: 0.4059 - val_accuracy: 0.8152\n",
      "Epoch 13/25\n",
      "1845/1845 [==============================] - 38s 21ms/step - loss: 0.3851 - accuracy: 0.8296 - val_loss: 0.3959 - val_accuracy: 0.8190\n",
      "Epoch 14/25\n",
      "1845/1845 [==============================] - 38s 21ms/step - loss: 0.3821 - accuracy: 0.8306 - val_loss: 0.3975 - val_accuracy: 0.8158\n",
      "Epoch 15/25\n",
      "1845/1845 [==============================] - 36s 19ms/step - loss: 0.3779 - accuracy: 0.8330 - val_loss: 0.3902 - val_accuracy: 0.8226\n",
      "Epoch 16/25\n",
      "1845/1845 [==============================] - 39s 21ms/step - loss: 0.3737 - accuracy: 0.8348 - val_loss: 0.4088 - val_accuracy: 0.8107\n",
      "Epoch 17/25\n",
      "1845/1845 [==============================] - 39s 21ms/step - loss: 0.3709 - accuracy: 0.8366 - val_loss: 0.3960 - val_accuracy: 0.8229\n",
      "Epoch 18/25\n",
      "1845/1845 [==============================] - 39s 21ms/step - loss: 0.3675 - accuracy: 0.8381 - val_loss: 0.3813 - val_accuracy: 0.8328\n",
      "Epoch 19/25\n",
      "1845/1845 [==============================] - 38s 21ms/step - loss: 0.3627 - accuracy: 0.8410 - val_loss: 0.3823 - val_accuracy: 0.8309\n",
      "Epoch 20/25\n",
      "1845/1845 [==============================] - 39s 21ms/step - loss: 0.3598 - accuracy: 0.8429 - val_loss: 0.4018 - val_accuracy: 0.8213\n",
      "Epoch 21/25\n",
      "1845/1845 [==============================] - 38s 21ms/step - loss: 0.3575 - accuracy: 0.8443 - val_loss: 0.3864 - val_accuracy: 0.8345\n",
      "Epoch 22/25\n",
      "1845/1845 [==============================] - 39s 21ms/step - loss: 0.3522 - accuracy: 0.8474 - val_loss: 0.3791 - val_accuracy: 0.8315\n",
      "Epoch 23/25\n",
      "1845/1845 [==============================] - 39s 21ms/step - loss: 0.3496 - accuracy: 0.8482 - val_loss: 0.3892 - val_accuracy: 0.8229\n",
      "Epoch 24/25\n",
      "1845/1845 [==============================] - 39s 21ms/step - loss: 0.3476 - accuracy: 0.8500 - val_loss: 0.3760 - val_accuracy: 0.8326\n",
      "Epoch 25/25\n",
      "1845/1845 [==============================] - 39s 21ms/step - loss: 0.3436 - accuracy: 0.8516 - val_loss: 0.3731 - val_accuracy: 0.8342\n"
     ]
    }
   ],
   "source": [
    "history2 = model_1d.fit(X_train_indices, Y_train, batch_size=64, epochs=25,validation_split=0.1)"
   ]
  },
  {
   "cell_type": "code",
   "execution_count": 37,
   "id": "07bb6cf9",
   "metadata": {},
   "outputs": [
    {
     "data": {
      "image/png": "[encoded data removed]",
      "text/plain": [
       "<Figure size 432x288 with 4 Axes>"
      ]
     },
     "metadata": {
      "needs_background": "light"
     },
     "output_type": "display_data"
    }
   ],
   "source": [
    "import matplotlib.pyplot as plot\n",
    "fig = plt.figure()\n",
    "\n",
    "plt.subplot(2, 2, 1)\n",
    "plot.plot(history2.history['accuracy'])\n",
    "plot.title('model accuracy')\n",
    "plot.ylabel('accuracy')\n",
    "plot.xlabel('epoch')\n",
    "\n",
    "plt.subplot(2, 2, 2)\n",
    "plot.plot(history2.history['val_accuracy'])\n",
    "plot.title('Validatin accuracy')\n",
    "plot.ylabel('val accuracy')\n",
    "plot.xlabel('epoch')\n",
    "\n",
    "plt.subplot(2, 2, 3)\n",
    "plot.plot(history2.history['loss'])\n",
    "plot.title('model loss')\n",
    "plot.ylabel('loss')\n",
    "plot.xlabel('epoch')\n",
    "\n",
    "plt.subplot(2, 2, 4)\n",
    "plot.plot(history2.history['val_loss'])\n",
    "plot.title('Validation loss')\n",
    "plot.ylabel('loss')\n",
    "plot.xlabel('epoch')\n",
    "plot.show()\n",
    "\n",
    "plt.show()"
   ]
  },
  {
   "cell_type": "code",
   "execution_count": 18,
   "id": "110c0902",
   "metadata": {},
   "outputs": [],
   "source": [
    "X_test_indices = tokenizer.texts_to_sequences(X_test)\n",
    "\n",
    "X_test_indices = pad_sequences(X_test_indices, maxlen=maxLen, padding='post')"
   ]
  },
  {
   "cell_type": "code",
   "execution_count": 21,
   "id": "a6445062",
   "metadata": {},
   "outputs": [
    {
     "name": "stdout",
     "output_type": "stream",
     "text": [
      "Epoch 1/5\n",
      "1845/1845 [==============================] - 43s 21ms/step - loss: 0.6258 - accuracy: 0.5000 - val_loss: 0.5329 - val_accuracy: 0.5040\n",
      "Epoch 2/5\n",
      "1845/1845 [==============================] - 38s 21ms/step - loss: 0.5014 - accuracy: 0.5000 - val_loss: 0.4774 - val_accuracy: 0.5040\n",
      "Epoch 3/5\n",
      "1845/1845 [==============================] - 38s 21ms/step - loss: 0.4648 - accuracy: 0.5000 - val_loss: 0.4461 - val_accuracy: 0.5040\n",
      "Epoch 4/5\n",
      "1845/1845 [==============================] - 35s 19ms/step - loss: 0.4480 - accuracy: 0.5000 - val_loss: 0.4382 - val_accuracy: 0.5040\n",
      "Epoch 5/5\n",
      "1845/1845 [==============================] - 38s 21ms/step - loss: 0.4361 - accuracy: 0.5000 - val_loss: 0.4355 - val_accuracy: 0.5040\n"
     ]
    }
   ],
   "source": [
    "from tensorflow import keras\n",
    "adam = keras.optimizers.Adam(learning_rate = 0.0001)\n",
    "model.compile(optimizer=adam, loss='binary_crossentropy', metrics=['accuracy'])\n",
    "history = model.fit(X_train_indices, Y_train, batch_size=64, epochs=5,validation_split=0.1)"
   ]
  },
  {
   "cell_type": "code",
   "execution_count": 36,
   "id": "fc279aa2",
   "metadata": {},
   "outputs": [
    {
     "data": {
      "image/png": "[encoded data removed]",
      "text/plain": [
       "<Figure size 432x288 with 4 Axes>"
      ]
     },
     "metadata": {
      "needs_background": "light"
     },
     "output_type": "display_data"
    }
   ],
   "source": [
    "import matplotlib.pyplot as plot\n",
    "fig = plt.figure()\n",
    "\n",
    "plt.subplot(2, 2, 1)\n",
    "plot.plot(history.history['accuracy'])\n",
    "plot.title('model accuracy')\n",
    "plot.ylabel('accuracy')\n",
    "plot.xlabel('epoch')\n",
    "\n",
    "plt.subplot(2, 2, 2)\n",
    "plot.plot(history.history['val_accuracy'])\n",
    "plot.title('Validatin accuracy')\n",
    "plot.ylabel('val accuracy')\n",
    "plot.xlabel('epoch')\n",
    "\n",
    "plt.subplot(2, 2, 3)\n",
    "plot.plot(history.history['loss'])\n",
    "plot.title('model loss')\n",
    "plot.ylabel('loss')\n",
    "plot.xlabel('epoch')\n",
    "\n",
    "plt.subplot(2, 2, 4)\n",
    "plot.plot(history.history['val_loss'])\n",
    "plot.title('Validation loss')\n",
    "plot.ylabel('loss')\n",
    "plot.xlabel('epoch')\n",
    "plot.show()\n",
    "\n",
    "plt.show()"
   ]
  },
  {
   "cell_type": "code",
   "execution_count": 24,
   "id": "c5a049a7",
   "metadata": {},
   "outputs": [
    {
     "name": "stdout",
     "output_type": "stream",
     "text": [
      "Conclusion : Conv1d neural newtork perform better than LSTM model, with conv1d neural network we have achived\n",
      "Training Accuracy : 88.78%\n",
      "Validation Accuracy : 84.54%\n"
     ]
    }
   ],
   "source": [
    "print(\"Conclusion : Conv1d neural newtork perform better than LSTM model, with conv1d neural network we have achived\")\n",
    "print(\"Training Accuracy : 88.78%\")\n",
    "print(\"Validation Accuracy : 84.54%\")"
   ]
  },
  {
   "cell_type": "code",
   "execution_count": 23,
   "id": "34d01d07",
   "metadata": {},
   "outputs": [
    {
     "data": {
      "image/png": "[encoded data removed]",
      "text/plain": [
       "<Figure size 576x432 with 1 Axes>"
      ]
     },
     "metadata": {
      "needs_background": "light"
     },
     "output_type": "display_data"
    },
    {
     "data": {
      "image/png": "[encoded data removed]",
      "text/plain": [
       "<Figure size 576x432 with 1 Axes>"
      ]
     },
     "metadata": {
      "needs_background": "light"
     },
     "output_type": "display_data"
    }
   ],
   "source": [
    "#Analysis\n",
    "import matplotlib.pyplot as plt\n",
    "# plotting main graph\n",
    "Data_Acc = [0.42424, 0.54152, 0.62088, 0.536, 0.1999] \n",
    "Data_Acc = [ x*100 for x in Data_Acc]\n",
    "Names = ['KNC',\t'LR', 'RFC', 'DTC', 'LSTM']\n",
    "plt.figure(figsize=(8, 6))\n",
    "plt.bar(Names, Data_Acc, color ='maroon', width = 0.6)\n",
    "plt.title(\"Rating Prediction\")\n",
    "plt.xlabel(\"Classifiers\")\n",
    "plt.ylabel(\"Validation Accuracy\")\n",
    "plt.show()\n",
    "\n",
    "# plotting main graph\n",
    "Data_Acc = [70.0, 85.0, 85.0, 50.40, 84.54] \n",
    "Names = ['KNC',\t'LR', 'RFC', 'LSTM', 'Conv 1 NN']\n",
    "plt.figure(figsize=(8, 6))\n",
    "plt.bar(Names, Data_Acc, color ='maroon', width = 0.6)\n",
    "plt.title(\"Polarity Prediction\")\n",
    "plt.xlabel(\"Classifiers\")\n",
    "plt.ylabel(\"Validation Accuracy\")\n",
    "plt.show()"
   ]
  },
  {
   "cell_type": "code",
   "execution_count": null,
   "id": "912914d9",
   "metadata": {},
   "outputs": [],
   "source": []
  }
 ],
 "metadata": {
  "kernelspec": {
   "display_name": "Python 3 (ipykernel)",
   "language": "python",
   "name": "python3"
  },
  "language_info": {
   "codemirror_mode": {
    "name": "ipython",
    "version": 3
   },
   "file_extension": ".py",
   "mimetype": "text/x-python",
   "name": "python",
   "nbconvert_exporter": "python",
   "pygments_lexer": "ipython3",
   "version": "3.10.6"
  },
  "vscode": {
   "interpreter": {
    "hash": "301a17a29b57d3836b7901af1621afd6d2b1f2298b9c7949191147cf2fea93e3"
   }
  }
 },
 "nbformat": 4,
 "nbformat_minor": 5
}
