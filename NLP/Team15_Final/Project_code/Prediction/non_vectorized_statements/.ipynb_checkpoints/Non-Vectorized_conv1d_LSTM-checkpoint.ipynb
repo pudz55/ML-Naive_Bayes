{
 "cells": [
  {
   "cell_type": "code",
   "execution_count": 26,
   "id": "dec0cf04",
   "metadata": {},
   "outputs": [],
   "source": [
    "# load the model from disk\n",
    "import pickle\n",
    "Conv1d = pickle.load(open(\"model_1d.pkl\", 'rb'))\n",
    "\n",
    "from keras.preprocessing.text import Tokenizer\n",
    "tokenizer = Tokenizer(num_words=5000)"
   ]
  },
  {
   "cell_type": "code",
   "execution_count": 27,
   "id": "4b0af8cd",
   "metadata": {},
   "outputs": [],
   "source": [
    "import pandas as pd\n",
    "data = pd.read_csv('Pre_Processed_Dataset.csv')\n",
    "data = data.iloc[80:90,:] #30:40,80:90\n",
    "data\n",
    "\n",
    "def print_predictions(X,Y,predicted,X_train_indices):\n",
    "    for i in range(len(Y)):\n",
    "        temp = predicted[i][0]\n",
    "        if temp>=0.4:\n",
    "            temp = 1\n",
    "        else:\n",
    "            temp = 0\n",
    "        print(\"Pre-Processed Review : \",X[i])\n",
    "        print(\"Actual : \",Y[i],\" Predicted : \",temp)\n",
    "        print(\"-------------------------------------------------------------------------------------\")"
   ]
  },
  {
   "cell_type": "code",
   "execution_count": 28,
   "id": "e4f136cc",
   "metadata": {},
   "outputs": [],
   "source": [
    "X = data['Review']\n",
    "Y = data['Polarity']\n",
    "Y = Y.reset_index()[\"Polarity\"]\n",
    "X = X.reset_index()[\"Review\"]\n",
    "tokenizer.fit_on_texts(X)\n",
    "words_to_index = tokenizer.word_index\n",
    "X_train_indices = tokenizer.texts_to_sequences(X)"
   ]
  },
  {
   "cell_type": "code",
   "execution_count": 29,
   "id": "360a0414",
   "metadata": {},
   "outputs": [
    {
     "data": {
      "text/plain": [
       "(10, 150)"
      ]
     },
     "execution_count": 29,
     "metadata": {},
     "output_type": "execute_result"
    }
   ],
   "source": [
    "from keras.preprocessing.sequence import pad_sequences\n",
    "X_train_indices = pad_sequences(X_train_indices, maxlen=150, padding='post')\n",
    "X_train_indices.shape"
   ]
  },
  {
   "cell_type": "code",
   "execution_count": 30,
   "id": "61ec3c3b",
   "metadata": {},
   "outputs": [],
   "source": [
    "predicted = Conv1d.predict(X_train_indices)"
   ]
  },
  {
   "cell_type": "code",
   "execution_count": 31,
   "id": "c132bc80",
   "metadata": {},
   "outputs": [
    {
     "name": "stdout",
     "output_type": "stream",
     "text": [
      "Pre-Processed Review :  peppermint stick delici fun eat dad got one christma rememb similar one littl girl love\n",
      "Actual :  1  Predicted :  1\n",
      "-------------------------------------------------------------------------------------\n",
      "Pre-Processed Review :  great gift age purchas giant cane recipi love much kept would eat\n",
      "Actual :  1  Predicted :  0\n",
      "-------------------------------------------------------------------------------------\n",
      "Pre-Processed Review :  know product titl say molecular gastronomi let scare look food scienc someth earth use make coffe creamer br br coffe blond sweet flavor creamer full bad kind fat honestli hate use manufactur food item realli think good bodi hand hate use cold milk cream like hot coffe br br stumbl across amazon one day got idea make creamer also bought low fat non instant milk powder regular milk powder non instant lowfat milk littl sweeter tast fresher regular instant low fat milk dissolv good cold water problem hot coffe play ratio would heavi cream made coffe rich also think powder expens use like mix togeth br br flavor bough cocoa bean powder vanilla bean powder caster superfin sugar mix small batch along spice like cinnamon nutmeg make flavor creamer want could use fake sweetner powder instead make small amount store jelli canning jar also use littl food chopper food processor blend everyth sugar heavier sink bottom let settl bit open top though br br stuff tast way better storebought creamer fun experi come flavor go tri use essenti oil next see get good chocol orang mix br br ingredi mention onlin take time experi mayb use low fat milk add flavor also would make great housewarm host ess gift br br sure molecular peopl abl tell sure experi cook main reason bought make creamer work great\n",
      "Actual :  1  Predicted :  1\n",
      "-------------------------------------------------------------------------------------\n",
      "Pre-Processed Review :  dog like flavor tri dog food reason itch increas tri lamb rice itchi dog give limit ingredi dog food tri help duck sweet potato cut itch significantli tri lamb rice start itch like natur balanc qualiti ingredi\n",
      "Actual :  1  Predicted :  1\n",
      "-------------------------------------------------------------------------------------\n",
      "Pre-Processed Review :  awesom dog food howev given boston sever reaction food ingredi itch increas violent jump bed night scratch soon chang differ formula scratch stop glad natur balanc choic guess tri find best pet\n",
      "Actual :  1  Predicted :  1\n",
      "-------------------------------------------------------------------------------------\n",
      "Pre-Processed Review :  three dog love food bought specif one dog food allergi work great hot spot tummi problem br love ship right door free ship\n",
      "Actual :  1  Predicted :  1\n",
      "-------------------------------------------------------------------------------------\n",
      "Pre-Processed Review :  dog ton allergi environment food prescript dog food test see allergi got test back learn allerg someth prescript brand final found dog food done well still environment trigger happi final eat someth know caus pain\n",
      "Actual :  1  Predicted :  0\n",
      "-------------------------------------------------------------------------------------\n",
      "Pre-Processed Review :  shepherd colli mix ib vet recommend limit ingredi food realli help symptom like alway buy amazon cheaper free ship\n",
      "Actual :  1  Predicted :  1\n",
      "-------------------------------------------------------------------------------------\n",
      "Pre-Processed Review :  natur balanc dri dog food lamb meal brown rice recip wonder jack russel aw food allergi food last hope last food could find someth allerg problem eat dri normal mix natur balanc dri lamb brown rice natur balanc wet lamb brown rice seem like better start feed dog bichon love dog allergi stomach issu want dog eat better food see differ pet\n",
      "Actual :  1  Predicted :  0\n",
      "-------------------------------------------------------------------------------------\n",
      "Pre-Processed Review :  great food love idea one food age breed real conveni well realli good product dog eat less almost ga poop regular perfect consist els mom ask\n",
      "Actual :  1  Predicted :  1\n",
      "-------------------------------------------------------------------------------------\n"
     ]
    }
   ],
   "source": [
    "print_predictions(X,Y,predicted,X_train_indices)"
   ]
  },
  {
   "cell_type": "code",
   "execution_count": 32,
   "id": "91a66399",
   "metadata": {},
   "outputs": [],
   "source": [
    "# load the model from disk\n",
    "import pickle\n",
    "lstm = pickle.load(open('LSTM.pkl', 'rb'))"
   ]
  },
  {
   "cell_type": "code",
   "execution_count": 33,
   "id": "5a43d9df",
   "metadata": {},
   "outputs": [],
   "source": [
    "predicted_lstm = lstm.predict(X_train_indices)"
   ]
  },
  {
   "cell_type": "code",
   "execution_count": 34,
   "id": "a7760c03",
   "metadata": {},
   "outputs": [
    {
     "name": "stdout",
     "output_type": "stream",
     "text": [
      "Pre-Processed Review :  peppermint stick delici fun eat dad got one christma rememb similar one littl girl love\n",
      "Actual :  1  Predicted :  1\n",
      "-------------------------------------------------------------------------------------\n",
      "Pre-Processed Review :  great gift age purchas giant cane recipi love much kept would eat\n",
      "Actual :  1  Predicted :  1\n",
      "-------------------------------------------------------------------------------------\n",
      "Pre-Processed Review :  know product titl say molecular gastronomi let scare look food scienc someth earth use make coffe creamer br br coffe blond sweet flavor creamer full bad kind fat honestli hate use manufactur food item realli think good bodi hand hate use cold milk cream like hot coffe br br stumbl across amazon one day got idea make creamer also bought low fat non instant milk powder regular milk powder non instant lowfat milk littl sweeter tast fresher regular instant low fat milk dissolv good cold water problem hot coffe play ratio would heavi cream made coffe rich also think powder expens use like mix togeth br br flavor bough cocoa bean powder vanilla bean powder caster superfin sugar mix small batch along spice like cinnamon nutmeg make flavor creamer want could use fake sweetner powder instead make small amount store jelli canning jar also use littl food chopper food processor blend everyth sugar heavier sink bottom let settl bit open top though br br stuff tast way better storebought creamer fun experi come flavor go tri use essenti oil next see get good chocol orang mix br br ingredi mention onlin take time experi mayb use low fat milk add flavor also would make great housewarm host ess gift br br sure molecular peopl abl tell sure experi cook main reason bought make creamer work great\n",
      "Actual :  1  Predicted :  1\n",
      "-------------------------------------------------------------------------------------\n",
      "Pre-Processed Review :  dog like flavor tri dog food reason itch increas tri lamb rice itchi dog give limit ingredi dog food tri help duck sweet potato cut itch significantli tri lamb rice start itch like natur balanc qualiti ingredi\n",
      "Actual :  1  Predicted :  1\n",
      "-------------------------------------------------------------------------------------\n",
      "Pre-Processed Review :  awesom dog food howev given boston sever reaction food ingredi itch increas violent jump bed night scratch soon chang differ formula scratch stop glad natur balanc choic guess tri find best pet\n",
      "Actual :  1  Predicted :  1\n",
      "-------------------------------------------------------------------------------------\n",
      "Pre-Processed Review :  three dog love food bought specif one dog food allergi work great hot spot tummi problem br love ship right door free ship\n",
      "Actual :  1  Predicted :  1\n",
      "-------------------------------------------------------------------------------------\n",
      "Pre-Processed Review :  dog ton allergi environment food prescript dog food test see allergi got test back learn allerg someth prescript brand final found dog food done well still environment trigger happi final eat someth know caus pain\n",
      "Actual :  1  Predicted :  1\n",
      "-------------------------------------------------------------------------------------\n",
      "Pre-Processed Review :  shepherd colli mix ib vet recommend limit ingredi food realli help symptom like alway buy amazon cheaper free ship\n",
      "Actual :  1  Predicted :  1\n",
      "-------------------------------------------------------------------------------------\n",
      "Pre-Processed Review :  natur balanc dri dog food lamb meal brown rice recip wonder jack russel aw food allergi food last hope last food could find someth allerg problem eat dri normal mix natur balanc dri lamb brown rice natur balanc wet lamb brown rice seem like better start feed dog bichon love dog allergi stomach issu want dog eat better food see differ pet\n",
      "Actual :  1  Predicted :  1\n",
      "-------------------------------------------------------------------------------------\n",
      "Pre-Processed Review :  great food love idea one food age breed real conveni well realli good product dog eat less almost ga poop regular perfect consist els mom ask\n",
      "Actual :  1  Predicted :  1\n",
      "-------------------------------------------------------------------------------------\n"
     ]
    }
   ],
   "source": [
    "print_predictions(X,Y,predicted_lstm,X_train_indices)"
   ]
  },
  {
   "cell_type": "code",
   "execution_count": null,
   "id": "68704e2d",
   "metadata": {},
   "outputs": [],
   "source": []
  }
 ],
 "metadata": {
  "kernelspec": {
   "display_name": "Python 3 (ipykernel)",
   "language": "python",
   "name": "python3"
  },
  "language_info": {
   "codemirror_mode": {
    "name": "ipython",
    "version": 3
   },
   "file_extension": ".py",
   "mimetype": "text/x-python",
   "name": "python",
   "nbconvert_exporter": "python",
   "pygments_lexer": "ipython3",
   "version": "3.9.7"
  }
 },
 "nbformat": 4,
 "nbformat_minor": 5
}
